{
 "cells": [
  {
   "cell_type": "code",
   "execution_count": 1,
   "id": "6b115f29",
   "metadata": {},
   "outputs": [],
   "source": [
    "from typing import Any, Optional\n",
    "from pathlib import Path\n",
    "import json\n",
    "import glob\n",
    "\n",
    "import numpy as np\n",
    "import pandas as pd\n",
    "import spacy\n",
    "from nltk.corpus import stopwords\n",
    "\n",
    "import gensim\n",
    "import gensim.corpora as corpora\n",
    "from gensim.utils import simple_preprocess\n",
    "from gensim.models import CoherenceModel, TfidfModel\n",
    "\n",
    "import pyLDAvis\n",
    "import pyLDAvis.gensim_models as gensimvis\n",
    "\n",
    "import warnings\n",
    "\n",
    "warnings.filterwarnings(\"ignore\", category=DeprecationWarning)\n",
    "pyLDAvis.enable_notebook()"
   ]
  },
  {
   "cell_type": "markdown",
   "id": "aac18a25",
   "metadata": {},
   "source": [
    "## Tools"
   ]
  },
  {
   "cell_type": "code",
   "execution_count": 4,
   "id": "40981432",
   "metadata": {},
   "outputs": [],
   "source": [
    "def get_data_path(file: Optional[str] = None) -> Path:\n",
    "    return Path.joinpath(Path.cwd().parent, \"data\", file)\n",
    "\n",
    "\n",
    "def read_data(file: str) -> None:\n",
    "    with open(file, \"r\", encoding=\"utf-8\") as f:\n",
    "        data = json.load(f)\n",
    "    return data\n",
    "\n",
    "\n",
    "def export_data(file: str, data: Any) -> None:\n",
    "    with open(file, \"w\", encoding=\"utf-8\") as f:\n",
    "        json.dump(data, f, indent=4)\n",
    "        \n",
    "\n",
    "def pipe(raw_input: Any, *functions, **functions_with_args) -> Any:\n",
    "    output = raw_input\n",
    "\n",
    "    if functions:\n",
    "        for function in functions:\n",
    "            output = function(output)\n",
    "\n",
    "    if functions_with_args:\n",
    "        for function, args_list in functions_with_args.items():\n",
    "            output = eval(function)(output, *args_list)\n",
    "\n",
    "    return output"
   ]
  },
  {
   "cell_type": "markdown",
   "id": "643fd37c",
   "metadata": {},
   "source": [
    "## Preprocessing Tools"
   ]
  },
  {
   "cell_type": "code",
   "execution_count": 5,
   "id": "565f7fb2",
   "metadata": {},
   "outputs": [],
   "source": [
    "nlp = spacy.load(\"en_core_web_sm\", disable=[\"parser\", \"ner\"])\n",
    "stop_words = stopwords.words(\"english\")\n",
    "\n",
    "\n",
    "def lemmatize(texts: list[str]) -> list[str]:\n",
    "    def _lemmatize(text: str, allowed_postags: Optional[list[str]] = None) -> str:\n",
    "        if allowed_postags is None:\n",
    "            allowed_postags = [\"NOUN\", \"ADJ\", \"VERB\", \"ADV\"]\n",
    "\n",
    "        doc = nlp(text)\n",
    "        return \" \".join([token.lemma_ for token in doc if token.pos_ in allowed_postags])\n",
    "    \n",
    "    return [_lemmatize(text) for text in texts]\n",
    "\n",
    "\n",
    "def gensim_preprocess(lemmatized_texts: list[str]) -> list[list[str]]:\n",
    "    def _gensim_preprocess(text: str) -> list[str]:\n",
    "        return simple_preprocess(text, deacc=True)\n",
    "    \n",
    "    return [_gensim_preprocess(text) for text in lemmatized_texts]\n",
    "\n",
    "\n",
    "def remove_stopwords(texts: list[list[str]]) -> list[list[str]]:\n",
    "    def _remove_stopwords(words: list[str]) -> list[str]:\n",
    "        return [word for word in words if word not in stop_words]\n",
    "    \n",
    "    return [_remove_stopwords(words) for words in texts]\n",
    "    \n",
    "\n",
    "def generate_ngrams(words: list[list[str]]):\n",
    "    bigram_phrases = gensim.models.Phrases(words, min_count=5, threshold=50)\n",
    "    trigram_phrases = gensim.models.Phrases(bigram_phrases[words], threshold=50)\n",
    "    \n",
    "    bigram = gensim.models.phrases.Phraser(bigram_phrases)\n",
    "    trigram = gensim.models.phrases.Phraser(trigram_phrases)\n",
    "    \n",
    "    def _make_bigrams(words: list[list[str]]):\n",
    "        return (bigram[doc] for doc in words)\n",
    "\n",
    "    def _make_trigrams(words: list[list[str]]):\n",
    "        return (trigram[bigram[doc]] for doc in words)\n",
    "    \n",
    "    data_bigrams = _make_bigrams(words)\n",
    "    data_bigrams_trigrams = _make_trigrams(data_bigrams)\n",
    "    \n",
    "    return list(data_bigrams_trigrams)\n",
    "\n",
    "\n",
    "def make_corpus(words: list[list[str]]) -> tuple[list[tuple[int, int]], corpora.dictionary.Dictionary]:\n",
    "    id2word = corpora.Dictionary(words)\n",
    "    return [id2word.doc2bow(text) for text in words], id2word\n",
    "\n",
    "\n",
    "def apply_tfidf(corpus: list[tuple[int, int]], id2word: corpora.dictionary.Dictionary) -> list[tuple[int, int]]:\n",
    "    tfidf = TfidfModel(corpus, id2word=id2word)\n",
    "    \n",
    "    low_value = 0.03\n",
    "    words = []\n",
    "    words_missing_in_tfidf = []\n",
    "    \n",
    "    for i in range(0, len(corpus)):\n",
    "        bow = corpus[i]\n",
    "        low_value_words = []\n",
    "        \n",
    "        tfidf_ids = [id for id, value in tfidf[bow]]\n",
    "        bow_ids = [id for id, value in bow]\n",
    "        low_value_words = [id for id, value in tfidf[bow] if value < low_value]\n",
    "        drops = low_value_words + words_missing_in_tfidf\n",
    "\n",
    "        for item in drops:\n",
    "            words.append(id2word[item])\n",
    "\n",
    "        words_missing_in_tfidf = [id for id in bow_ids if id not in tfidf_ids]\n",
    "\n",
    "        new_bow = [b for b in bow if b[0] not in low_value_words and b[0] not in words_missing_in_tfidf]\n",
    "        corpus[i] = new_bow\n",
    "        \n",
    "    return corpus, id2word\n",
    "\n",
    "\n",
    "def preprocess_text(texts: list[str]) -> Any:\n",
    "    return pipe(\n",
    "        texts,\n",
    "        lemmatize,\n",
    "        gensim_preprocess,\n",
    "        remove_stopwords,\n",
    "        generate_ngrams,\n",
    "        make_corpus,\n",
    "    )"
   ]
  },
  {
   "cell_type": "markdown",
   "id": "c1bf0bfb",
   "metadata": {},
   "source": [
    "## Data"
   ]
  },
  {
   "cell_type": "code",
   "execution_count": 6,
   "id": "1f63eb15",
   "metadata": {},
   "outputs": [],
   "source": [
    "data = read_data(get_data_path(\"ushmm_dn.json\"))[\"texts\"]"
   ]
  },
  {
   "cell_type": "code",
   "execution_count": 9,
   "id": "5cfe6eaf",
   "metadata": {},
   "outputs": [],
   "source": [
    "sample = data[:2]"
   ]
  },
  {
   "cell_type": "code",
   "execution_count": 13,
   "id": "e9df1336",
   "metadata": {},
   "outputs": [],
   "source": [
    "data = pd.read_csv(get_data_path(\"keychron_K2_reviews.csv\"))[\"content\"].values.tolist()[:-1]"
   ]
  },
  {
   "cell_type": "markdown",
   "id": "ad3a5ef8",
   "metadata": {},
   "source": [
    "### Sample"
   ]
  },
  {
   "cell_type": "code",
   "execution_count": null,
   "id": "9f84c40d",
   "metadata": {},
   "outputs": [],
   "source": [
    "sample = data[0]"
   ]
  },
  {
   "cell_type": "code",
   "execution_count": null,
   "id": "d2274534",
   "metadata": {},
   "outputs": [],
   "source": [
    "half_length = int(len(sample) / 2)"
   ]
  },
  {
   "cell_type": "code",
   "execution_count": null,
   "id": "58d29e95",
   "metadata": {},
   "outputs": [],
   "source": [
    "sample = [sample[:half_length]] + [sample[half_length:]]"
   ]
  },
  {
   "cell_type": "markdown",
   "id": "7c263ab8",
   "metadata": {},
   "source": [
    "## Preprocessing"
   ]
  },
  {
   "cell_type": "code",
   "execution_count": 10,
   "id": "d5db1204",
   "metadata": {},
   "outputs": [],
   "source": [
    "corpus, id2word = preprocess_text(sample)"
   ]
  },
  {
   "cell_type": "code",
   "execution_count": 14,
   "id": "f64121ea",
   "metadata": {},
   "outputs": [],
   "source": [
    "corpus, id2word = preprocess_text(data)"
   ]
  },
  {
   "cell_type": "markdown",
   "id": "976d2971",
   "metadata": {},
   "source": [
    "### TF-IDF"
   ]
  },
  {
   "cell_type": "code",
   "execution_count": 15,
   "id": "082fd5b1",
   "metadata": {},
   "outputs": [],
   "source": [
    "corpus, id2word = apply_tfidf(corpus, id2word)"
   ]
  },
  {
   "cell_type": "markdown",
   "id": "d474b805",
   "metadata": {},
   "source": [
    "## Model"
   ]
  },
  {
   "cell_type": "code",
   "execution_count": 16,
   "id": "ea815a88",
   "metadata": {},
   "outputs": [],
   "source": [
    "lda_model = gensim.models.ldamodel.LdaModel(\n",
    "    corpus=corpus,\n",
    "    id2word=id2word,\n",
    "    num_topics=10,\n",
    "    random_state=100,\n",
    "    update_every=1,\n",
    "    chunksize=100,\n",
    "    passes=10,\n",
    "    alpha=\"auto\"\n",
    ")"
   ]
  },
  {
   "cell_type": "markdown",
   "id": "36dec762",
   "metadata": {},
   "source": [
    "## Visualization"
   ]
  },
  {
   "cell_type": "code",
   "execution_count": 19,
   "id": "4ba76d26",
   "metadata": {},
   "outputs": [
    {
     "name": "stderr",
     "output_type": "stream",
     "text": [
      "/Users/d.e.magno/TheCuriousCirc/lda-example/venv/lib/python3.9/site-packages/pyLDAvis/_prepare.py:246: FutureWarning: In a future version of pandas all arguments of DataFrame.drop except for the argument 'labels' will be keyword-only\n",
      "  default_term_info = default_term_info.sort_values(\n",
      "/Users/d.e.magno/TheCuriousCirc/lda-example/venv/lib/python3.9/site-packages/past/builtins/misc.py:45: DeprecationWarning: the imp module is deprecated in favour of importlib; see the module's documentation for alternative uses\n",
      "  from imp import reload\n",
      "/Users/d.e.magno/TheCuriousCirc/lda-example/venv/lib/python3.9/site-packages/past/builtins/misc.py:45: DeprecationWarning: the imp module is deprecated in favour of importlib; see the module's documentation for alternative uses\n",
      "  from imp import reload\n",
      "/Users/d.e.magno/TheCuriousCirc/lda-example/venv/lib/python3.9/site-packages/past/builtins/misc.py:45: DeprecationWarning: the imp module is deprecated in favour of importlib; see the module's documentation for alternative uses\n",
      "  from imp import reload\n",
      "/Users/d.e.magno/TheCuriousCirc/lda-example/venv/lib/python3.9/site-packages/past/builtins/misc.py:45: DeprecationWarning: the imp module is deprecated in favour of importlib; see the module's documentation for alternative uses\n",
      "  from imp import reload\n"
     ]
    }
   ],
   "source": [
    "vis = gensimvis.prepare(\n",
    "    lda_model, \n",
    "    corpus, \n",
    "    id2word, \n",
    "    mds=\"mmds\",\n",
    "    R=10\n",
    ")"
   ]
  },
  {
   "cell_type": "code",
   "execution_count": 20,
   "id": "274b3f3a",
   "metadata": {},
   "outputs": [
    {
     "data": {
      "text/html": [
       "\n",
       "<link rel=\"stylesheet\" type=\"text/css\" href=\"https://cdn.jsdelivr.net/gh/bmabey/pyLDAvis@3.3.1/pyLDAvis/js/ldavis.v1.0.0.css\">\n",
       "\n",
       "\n",
       "<div id=\"ldavis_el402301405283904275849447083198\"></div>\n",
       "<script type=\"text/javascript\">\n",
       "\n",
       "var ldavis_el402301405283904275849447083198_data = {\"mdsDat\": {\"x\": [-0.3265190959040861, -0.11457580757441999, -0.09178641385742162, 0.1727464531411278, 0.09644089810417612, 0.1544814862931479, 0.041078736327321265, 0.031192780710398327, 0.010115141061002787, 0.026825821698753444], \"y\": [-0.06874345581706376, -0.2998826342285323, 0.1777695739048003, -0.1002915465031369, 0.00042641644260669884, 0.10985301582075553, 0.11980563968676693, 0.008905269750226227, 0.02686142020562938, 0.02529630073794788], \"topics\": [1, 2, 3, 4, 5, 6, 7, 8, 9, 10], \"cluster\": [1, 1, 1, 1, 1, 1, 1, 1, 1, 1], \"Freq\": [78.63088026551115, 14.033381553041957, 2.8781880182911075, 1.345479031266958, 1.0781931833875666, 0.7520009715076628, 0.3968979804244064, 0.357838430734828, 0.2977592252395293, 0.22938134059483722]}, \"tinfo\": {\"Term\": [\"work\", \"product\", \"switch\", \"function\", \"bluetooth\", \"battery\", \"time\", \"mode\", \"connection\", \"connect\", \"key\", \"great\", \"good\", \"feel\", \"mechanical\", \"well\", \"need\", \"nice\", \"keycap\", \"like\", \"get\", \"type\", \"keyboard\", \"use\", \"love\", \"switch\", \"pcb\", \"break\", \"power\", \"sometimes\", \"connectivity\", \"wired\", \"min\", \"metal\", \"live\", \"completely\", \"month\", \"connect\", \"connection\", \"sleep\", \"bluetooth\", \"work\", \"mode\", \"many\", \"day\", \"switch\", \"time\", \"keyboard\", \"apple\", \"shut\", \"reliable\", \"premium\", \"productivity\", \"useful\", \"guy\", \"rock\", \"style\", \"course\", \"constantly\", \"function\", \"product\", \"battery\", \"teclado\", \"por\", \"excelente\", \"puede\", \"gateron\", \"comodo\", \"tiene\", \"praise\", \"buen\", \"interruptore\", \"que\", \"enter\", \"flat\", \"concern\", \"photo\", \"advertise\", \"relatively\", \"mis\", \"sync\", \"highly\", \"used\", \"check\", \"shipping\", \"stab\", \"paint\", \"bandaid\", \"gloss\", \"trace\", \"careful\", \"mac\", \"desolder\", \"desoldere\", \"neoprene\", \"muy\", \"producto\", \"todo\", \"rapido\", \"increible\", \"era\", \"nada\", \"decidi\", \"elevado\", \"embargo\", \"pero\", \"que\", \"sin\", \"whatsoever\", \"shoot\", \"development\", \"unusual\", \"crash\", \"wife\", \"face\", \"gf\", \"literally\", \"downstair\", \"terrible\", \"slow\", \"luck\", \"attempt\", \"reaction\", \"speeding\", \"listen\", \"tower\", \"warehouse\", \"pipe\", \"exchange\", \"kickstarter\", \"eso\", \"writer\", \"item\", \"final\", \"variation\", \"lock\", \"compren\", \"continuamente\", \"desconecta\"], \"Freq\": [228.0, 56.0, 258.0, 41.0, 82.0, 49.0, 110.0, 69.0, 51.0, 50.0, 433.48171209234516, 253.37068398598745, 182.34696112043486, 184.57798427290243, 168.0957285405725, 166.79329793409985, 115.94117266592035, 108.28532874488432, 105.56278054421271, 105.27625718729733, 242.81990033615088, 173.15414340198376, 945.6377293360481, 376.8733129742275, 174.37845032632165, 203.90200204083806, 22.399616400699852, 21.943132632522687, 21.425848212157515, 19.436428484910156, 17.91563876417609, 15.82257995260176, 13.17823179496966, 11.117859495226963, 10.977089762375925, 10.781902397230116, 46.16626901752125, 48.13196397416617, 46.169255819337984, 21.897921856901377, 55.32016472567149, 105.43891293514207, 45.09822822691444, 29.055370304549403, 34.117590635546904, 54.35890076423401, 38.55168494155001, 53.573302425925036, 13.727951923680964, 9.839438255382323, 9.426310177167593, 5.879457033805792, 5.289504663244594, 5.2866981893622995, 4.6646543762372366, 4.6611602559819865, 4.503936350929044, 4.299943999671456, 6.2096933142198205, 10.974501877883235, 11.872116550436623, 8.365905225455402, 6.918372100171955, 5.78973723187677, 5.56992004722794, 4.5553130317962625, 3.8846576117112064, 2.980078038056135, 2.6163280194183103, 2.5326226576093247, 2.4446722700004155, 2.359174433048253, 3.3781688887096353, 4.0064596819104175, 3.904652825911388, 3.196900633741744, 2.456632588433997, 2.2608734618731483, 1.7789758539840639, 1.5781398905610629, 1.5717907656221723, 1.3638305226387106, 1.2636095880440399, 2.4334598474948232, 1.385766485033658, 3.575311833220894, 3.084351776972099, 2.4125770561542077, 2.4125770561542077, 2.4125770561542077, 1.9275581259767407, 1.834198268774239, 1.619061360991919, 1.619061360991919, 1.619061360991919, 2.9322040144852815, 1.5109044983227928, 0.8264326829860456, 0.7475969244942942, 0.7475922398906876, 0.5719749509666946, 0.5717964071227837, 0.4931079114121505, 0.4931079114121505, 0.4931079114121505, 0.5719749509666946, 0.5923252846035976, 0.4931079114121505, 0.5938590083441385, 0.33905295739037883, 0.28830018097595933, 0.2770168132898954, 0.2453153724690948, 0.2445474639343667, 0.2130293402008984, 0.19321202052729577, 0.19315088077037243, 0.1502622098478623, 0.8726366526488634, 0.652962542633861, 0.4937275322848985, 0.3187921043819202, 0.2742046009367767, 0.2742046009367767, 0.2037306984038999, 0.20314640447681426, 0.17731877347415342, 0.17731260898970527, 0.2520461277625778, 0.6344468904683205, 0.526505522963699, 0.4403087942740119, 0.3269933079559272, 0.22059576845385048, 0.1966469804523333, 0.18490868680946235, 0.16131891283529487, 0.16131891283529487, 0.16131891283529487], \"Total\": [228.0, 56.0, 258.0, 41.0, 82.0, 49.0, 110.0, 69.0, 51.0, 50.0, 433.9081885907913, 253.7901595131925, 182.76054483387892, 185.0017120870094, 168.51197364467083, 167.25117551671352, 116.35944820145943, 108.69864457920492, 105.97606445343182, 105.69223984610211, 244.62286719171985, 173.92599587496898, 999.5087226075071, 394.5301915047149, 180.32734944728847, 258.5584389325375, 22.822845005828384, 22.366103934873923, 21.849047080625034, 19.888356882021952, 18.338641817959317, 16.24649662113023, 13.601388381698953, 11.540850053662739, 11.40023481127426, 11.205804026771998, 48.14663621006403, 50.65632161889098, 51.318424166730686, 23.633054605104405, 82.25017050559707, 228.18421087204896, 69.42243652153861, 36.98079761375626, 68.08048389521258, 258.5584389325375, 110.50747579827065, 999.5087226075071, 14.180169825663201, 10.291862715450623, 9.878497284463654, 6.33147141842276, 5.7416087704101, 5.738904340737356, 5.116719999040352, 5.113394964362923, 4.9560188731345916, 4.7523413818998215, 8.643047946340607, 41.2708254286499, 56.067342324899485, 49.251851863475494, 7.40958976694396, 6.280963702066437, 6.061154934180519, 5.046528316448206, 4.376621179383278, 3.4712982786047197, 3.1076474614892335, 3.0268520182922276, 2.9359170111744017, 2.850390792714263, 4.442300211755201, 4.492316496162502, 4.389777262260437, 3.681980728696052, 2.941771937050151, 2.745957514414372, 2.264058584497347, 2.0634904909804876, 2.0578822878626006, 1.8488548625074401, 1.7486876746671387, 9.090016512206702, 4.192636194736088, 4.08142027356529, 3.5904738187634, 2.91869882903918, 2.91869882903918, 2.91869882903918, 2.4337744148107348, 2.3405914238386636, 2.1251882162231084, 2.1251882162231084, 2.1251882162231084, 3.451436892439464, 2.03011381839075, 1.3456288593423682, 1.266796345583351, 1.2667920806857322, 1.0911694401394139, 1.091117293365877, 1.012303501013722, 1.012303501013722, 1.012303501013722, 2.4393392393820292, 4.442300211755201, 2.1680002990494445, 1.109403348114409, 0.8545010756312523, 0.8036093395473325, 0.7923093735978333, 0.7605599833217793, 0.7599322207007109, 0.7282732620699202, 0.70850565607095, 0.7084633362099007, 0.665515616769216, 1.3918592948260131, 1.1721723864969036, 1.0129773110837395, 0.8380998961592395, 0.7933760110596536, 0.7933760110596536, 0.7229482830684351, 0.7224871915632798, 0.6964858874523687, 0.6964774113073668, 1.3016221156404575, 1.1589533722243832, 1.0503998137948902, 0.9641073301738887, 0.8507213648333736, 0.7451778627437693, 0.720437330513838, 0.7085575750538757, 0.6849706802005955, 0.6849706802005955, 0.6849706802005955], \"Category\": [\"Default\", \"Default\", \"Default\", \"Default\", \"Default\", \"Default\", \"Default\", \"Default\", \"Default\", \"Default\", \"Topic1\", \"Topic1\", \"Topic1\", \"Topic1\", \"Topic1\", \"Topic1\", \"Topic1\", \"Topic1\", \"Topic1\", \"Topic1\", \"Topic1\", \"Topic1\", \"Topic1\", \"Topic1\", \"Topic1\", \"Topic1\", \"Topic2\", \"Topic2\", \"Topic2\", \"Topic2\", \"Topic2\", \"Topic2\", \"Topic2\", \"Topic2\", \"Topic2\", \"Topic2\", \"Topic2\", \"Topic2\", \"Topic2\", \"Topic2\", \"Topic2\", \"Topic2\", \"Topic2\", \"Topic2\", \"Topic2\", \"Topic2\", \"Topic2\", \"Topic2\", \"Topic3\", \"Topic3\", \"Topic3\", \"Topic3\", \"Topic3\", \"Topic3\", \"Topic3\", \"Topic3\", \"Topic3\", \"Topic3\", \"Topic3\", \"Topic3\", \"Topic3\", \"Topic3\", \"Topic4\", \"Topic4\", \"Topic4\", \"Topic4\", \"Topic4\", \"Topic4\", \"Topic4\", \"Topic4\", \"Topic4\", \"Topic4\", \"Topic4\", \"Topic5\", \"Topic5\", \"Topic5\", \"Topic5\", \"Topic5\", \"Topic5\", \"Topic5\", \"Topic5\", \"Topic5\", \"Topic5\", \"Topic5\", \"Topic5\", \"Topic6\", \"Topic6\", \"Topic6\", \"Topic6\", \"Topic6\", \"Topic6\", \"Topic6\", \"Topic6\", \"Topic6\", \"Topic6\", \"Topic7\", \"Topic7\", \"Topic7\", \"Topic7\", \"Topic7\", \"Topic7\", \"Topic7\", \"Topic7\", \"Topic7\", \"Topic7\", \"Topic7\", \"Topic7\", \"Topic7\", \"Topic8\", \"Topic8\", \"Topic8\", \"Topic8\", \"Topic8\", \"Topic8\", \"Topic8\", \"Topic8\", \"Topic8\", \"Topic8\", \"Topic9\", \"Topic9\", \"Topic9\", \"Topic9\", \"Topic9\", \"Topic9\", \"Topic9\", \"Topic9\", \"Topic9\", \"Topic9\", \"Topic9\", \"Topic10\", \"Topic10\", \"Topic10\", \"Topic10\", \"Topic10\", \"Topic10\", \"Topic10\", \"Topic10\", \"Topic10\", \"Topic10\"], \"logprob\": [10.0, 9.0, 8.0, 7.0, 6.0, 5.0, 4.0, 3.0, 2.0, 1.0, -3.613, -4.15, -4.479, -4.4668, -4.5604, -4.5681, -4.9318, -5.0001, -5.0256, -5.0283, -4.1926, -4.5307, -2.833, -3.753, -4.5237, -4.3673, -4.8525, -4.8731, -4.897, -4.9944, -5.0759, -5.2001, -5.383, -5.553, -5.5658, -5.5837, -4.1293, -4.0876, -4.1293, -4.8752, -3.9484, -3.3034, -4.1527, -4.5924, -4.4318, -3.966, -4.3096, -3.9805, -3.7579, -4.0909, -4.1338, -4.6058, -4.7116, -4.7121, -4.8373, -4.838, -4.8723, -4.9187, -4.5512, -3.9817, -3.9031, -4.2531, -3.6827, -3.8608, -3.8995, -4.1006, -4.2598, -4.5249, -4.6551, -4.6876, -4.723, -4.7586, -4.3995, -4.0075, -4.0332, -4.2332, -4.4966, -4.5797, -4.8194, -4.9392, -4.9432, -5.0851, -5.1614, -4.5061, -5.0692, -3.7611, -3.9088, -4.1544, -4.1544, -4.1544, -4.3789, -4.4285, -4.5533, -4.5533, -4.5533, -3.3203, -3.9833, -4.5867, -4.6869, -4.6869, -4.9547, -4.955, -5.1031, -5.1031, -5.1031, -4.9547, -4.9198, -5.1031, -4.8136, -5.3741, -5.5362, -5.5761, -5.6977, -5.7008, -5.8388, -5.9364, -5.9367, -6.1878, -4.2449, -4.5349, -4.8144, -5.2519, -5.4025, -5.4025, -5.6996, -5.7025, -5.8385, -5.8385, -5.4868, -4.3028, -4.4893, -4.668, -4.9656, -5.3592, -5.4741, -5.5357, -5.6721, -5.6721, -5.6721], \"loglift\": [10.0, 9.0, 8.0, 7.0, 6.0, 5.0, 4.0, 3.0, 2.0, 1.0, 0.2394, 0.2388, 0.2381, 0.2381, 0.2379, 0.2377, 0.2368, 0.2366, 0.2365, 0.2365, 0.233, 0.236, 0.185, 0.1946, 0.2069, 0.0029, 1.945, 1.9446, 1.9442, 1.9407, 1.9404, 1.9373, 1.9321, 1.9264, 1.9259, 1.9252, 1.9217, 1.9126, 1.858, 1.8875, 1.5671, 1.1917, 1.5324, 1.7225, 1.2729, 0.4042, 0.9106, -0.9625, 3.5156, 3.5031, 3.5012, 3.4739, 3.466, 3.4659, 3.4555, 3.4554, 3.4524, 3.448, 3.2174, 2.2234, 1.9956, 1.7752, 4.2398, 4.227, 4.2239, 4.206, 4.1892, 4.1558, 4.1363, 4.1302, 4.1253, 4.1193, 4.0346, 4.4154, 4.4128, 4.3886, 4.3497, 4.3355, 4.2888, 4.2617, 4.2604, 4.2256, 4.205, 3.212, 3.4228, 4.7578, 4.7382, 4.6997, 4.6997, 4.6997, 4.657, 4.6464, 4.6182, 4.6182, 4.6182, 5.3662, 5.2339, 5.0417, 5.0019, 5.0019, 4.8833, 4.8831, 4.81, 4.81, 4.81, 4.0789, 3.5144, 4.0484, 5.0079, 4.7085, 4.6077, 4.582, 4.5013, 4.499, 4.4036, 4.3335, 4.3332, 4.1447, 5.3498, 5.2315, 5.098, 4.85, 4.7542, 4.7542, 4.5501, 4.5479, 4.4485, 4.4485, 4.1749, 5.475, 5.3869, 5.2938, 5.1214, 4.8602, 4.7791, 4.7342, 4.6315, 4.6315, 4.6315]}, \"token.table\": {\"Topic\": [5, 3, 6, 1, 2, 3, 1, 2, 3, 2, 4, 6, 1, 5, 4, 2, 5, 1, 2, 2, 3, 2, 1, 3, 3, 1, 2, 6, 6, 5, 7, 10, 4, 1, 1, 5, 1, 3, 4, 1, 2, 6, 1, 1, 3, 5, 7, 4, 1, 1, 2, 1, 10, 1, 2, 1, 2, 6, 1, 2, 3, 1, 2, 2, 5, 1, 2, 1, 2, 7, 7, 1, 6, 1, 6, 2, 4, 7, 5, 4, 2, 4, 3, 1, 3, 3, 7, 4, 4, 7, 7, 5, 3, 3, 1, 5, 3, 4, 1, 2, 9, 2, 6, 3, 1, 2, 5, 4, 9, 4, 1, 2, 7, 6, 1, 1, 2, 5, 3, 1, 8, 2, 1, 2], \"Freq\": [0.7283433882357565, 0.9872942406277018, 0.6852368528404793, 0.6294179574390619, 0.20303805078679416, 0.16243044062943532, 0.29179270817884584, 0.6686916229098551, 0.024316059014903822, 0.9836313049451996, 0.6812181653595093, 0.8217688491706543, 0.6600648075768383, 0.22002160252561279, 0.8642299679317224, 0.981634157952405, 0.8147788435227441, 0.03948174553704964, 0.9475618928891913, 0.8963642346177384, 0.09743089506714547, 0.9815339750172949, 0.23139985019367884, 0.6941995505810366, 0.8416903750296109, 0.49940890626353024, 0.49940890626353024, 0.9410931157685444, 0.9410931157685444, 0.8904092139137889, 0.9164479531906928, 0.9520184475158983, 0.9899103496207218, 0.7682721336583578, 0.9999907455612703, 0.9112079636451239, 0.7269057424563702, 0.26653210556733575, 0.9139470463750877, 0.9933658401998536, 0.00817585053662431, 0.6852368528404793, 0.9958385720803676, 0.9968865636291488, 0.9771885115733825, 0.5408753387184689, 0.7893955253167403, 0.7016581744201872, 0.9979069567833212, 0.9464649768459107, 0.054026542018688346, 1.0002258580434331, 0.8628474828807794, 0.9934504193769563, 0.9648924063495212, 0.9649118701811895, 0.03327282310969619, 0.8544848877212068, 0.18928742622349803, 0.7841907657830632, 0.02704106088907115, 0.9969617966391493, 0.9531360297423596, 0.9557847798458473, 0.9692315078465327, 0.3457095602306308, 0.6482054254324329, 0.04153976596150953, 0.9554146171147192, 0.8692032024608771, 0.9164917521517796, 0.9969108808350733, 0.9410931157685444, 0.9935726468171749, 0.8355443185025742, 0.9639464314979903, 0.4099470806911364, 0.4099470806911364, 0.6798623560212119, 0.9552674214668683, 0.9611403152964991, 0.9911287310611975, 0.9476470165436942, 0.7847705665274528, 0.21402833632566895, 0.8708360670214856, 0.9851664383947591, 0.9907801336818907, 0.6753258125287006, 0.22510860417623352, 0.7893928676748012, 0.8833693676014256, 0.9110697448036651, 0.9778239378821285, 0.4770268411342313, 0.23851342056711566, 0.9716414099643531, 0.46125454892162515, 0.04231361610716264, 0.9308995543575781, 0.8531168380348478, 0.9553328167182589, 0.9800509949703939, 1.008874285589149, 0.7889899120764232, 0.20885027084375907, 0.9718728868973747, 0.9447216674840431, 0.7184634278172516, 0.9653604654893361, 0.6515396309606661, 0.35291730010369415, 0.7431469628919204, 0.6852368528404793, 0.9946759202365894, 0.9555669201440433, 0.043089224515779144, 0.5718574074071571, 0.8712464441178647, 0.9984982137438645, 0.9013854173954353, 0.9848277061277546, 0.5346557482384693, 0.4601545374183547], \"Term\": [\"advertise\", \"apple\", \"bandaid\", \"battery\", \"battery\", \"battery\", \"bluetooth\", \"bluetooth\", \"bluetooth\", \"break\", \"buen\", \"careful\", \"check\", \"check\", \"comodo\", \"completely\", \"concern\", \"connect\", \"connect\", \"connection\", \"connection\", \"connectivity\", \"constantly\", \"constantly\", \"course\", \"day\", \"day\", \"desolder\", \"desoldere\", \"enter\", \"era\", \"eso\", \"excelente\", \"exchange\", \"feel\", \"flat\", \"function\", \"function\", \"gateron\", \"get\", \"get\", \"gloss\", \"good\", \"great\", \"guy\", \"highly\", \"increible\", \"interruptore\", \"key\", \"keyboard\", \"keyboard\", \"keycap\", \"kickstarter\", \"like\", \"live\", \"love\", \"love\", \"mac\", \"many\", \"many\", \"many\", \"mechanical\", \"metal\", \"min\", \"mis\", \"mode\", \"mode\", \"month\", \"month\", \"muy\", \"nada\", \"need\", \"neoprene\", \"nice\", \"paint\", \"pcb\", \"pero\", \"pero\", \"photo\", \"por\", \"power\", \"praise\", \"premium\", \"product\", \"product\", \"productivity\", \"producto\", \"puede\", \"que\", \"que\", \"rapido\", \"relatively\", \"reliable\", \"rock\", \"shipping\", \"shipping\", \"shut\", \"sin\", \"sleep\", \"sleep\", \"slow\", \"sometimes\", \"stab\", \"style\", \"switch\", \"switch\", \"sync\", \"teclado\", \"terrible\", \"tiene\", \"time\", \"time\", \"todo\", \"trace\", \"type\", \"use\", \"use\", \"used\", \"useful\", \"well\", \"whatsoever\", \"wired\", \"work\", \"work\"]}, \"R\": 10, \"lambda.step\": 0.01, \"plot.opts\": {\"xlab\": \"PC1\", \"ylab\": \"PC2\"}, \"topic.order\": [7, 9, 1, 8, 10, 6, 4, 2, 5, 3]};\n",
       "\n",
       "function LDAvis_load_lib(url, callback){\n",
       "  var s = document.createElement('script');\n",
       "  s.src = url;\n",
       "  s.async = true;\n",
       "  s.onreadystatechange = s.onload = callback;\n",
       "  s.onerror = function(){console.warn(\"failed to load library \" + url);};\n",
       "  document.getElementsByTagName(\"head\")[0].appendChild(s);\n",
       "}\n",
       "\n",
       "if(typeof(LDAvis) !== \"undefined\"){\n",
       "   // already loaded: just create the visualization\n",
       "   !function(LDAvis){\n",
       "       new LDAvis(\"#\" + \"ldavis_el402301405283904275849447083198\", ldavis_el402301405283904275849447083198_data);\n",
       "   }(LDAvis);\n",
       "}else if(typeof define === \"function\" && define.amd){\n",
       "   // require.js is available: use it to load d3/LDAvis\n",
       "   require.config({paths: {d3: \"https://d3js.org/d3.v5\"}});\n",
       "   require([\"d3\"], function(d3){\n",
       "      window.d3 = d3;\n",
       "      LDAvis_load_lib(\"https://cdn.jsdelivr.net/gh/bmabey/pyLDAvis@3.3.1/pyLDAvis/js/ldavis.v3.0.0.js\", function(){\n",
       "        new LDAvis(\"#\" + \"ldavis_el402301405283904275849447083198\", ldavis_el402301405283904275849447083198_data);\n",
       "      });\n",
       "    });\n",
       "}else{\n",
       "    // require.js not available: dynamically load d3 & LDAvis\n",
       "    LDAvis_load_lib(\"https://d3js.org/d3.v5.js\", function(){\n",
       "         LDAvis_load_lib(\"https://cdn.jsdelivr.net/gh/bmabey/pyLDAvis@3.3.1/pyLDAvis/js/ldavis.v3.0.0.js\", function(){\n",
       "                 new LDAvis(\"#\" + \"ldavis_el402301405283904275849447083198\", ldavis_el402301405283904275849447083198_data);\n",
       "            })\n",
       "         });\n",
       "}\n",
       "</script>"
      ],
      "text/plain": [
       "PreparedData(topic_coordinates=              x         y  topics  cluster       Freq\n",
       "topic                                                \n",
       "6     -0.326519 -0.068743       1        1  78.630880\n",
       "8     -0.114576 -0.299883       2        1  14.033382\n",
       "0     -0.091786  0.177770       3        1   2.878188\n",
       "7      0.172746 -0.100292       4        1   1.345479\n",
       "9      0.096441  0.000426       5        1   1.078193\n",
       "5      0.154481  0.109853       6        1   0.752001\n",
       "3      0.041079  0.119806       7        1   0.396898\n",
       "1      0.031193  0.008905       8        1   0.357838\n",
       "4      0.010115  0.026861       9        1   0.297759\n",
       "2      0.026826  0.025296      10        1   0.229381, topic_info=               Term        Freq       Total Category  logprob  loglift\n",
       "221            work  228.000000  228.000000  Default  10.0000  10.0000\n",
       "146         product   56.000000   56.000000  Default   9.0000   9.0000\n",
       "189          switch  258.000000  258.000000  Default   8.0000   8.0000\n",
       "612        function   41.000000   41.000000  Default   7.0000   7.0000\n",
       "646       bluetooth   82.000000   82.000000  Default   6.0000   6.0000\n",
       "...             ...         ...         ...      ...      ...      ...\n",
       "1577      variation    0.196647    0.720437  Topic10  -5.4741   4.7791\n",
       "1357           lock    0.184909    0.708558  Topic10  -5.5357   4.7342\n",
       "2486        compren    0.161319    0.684971  Topic10  -5.6721   4.6315\n",
       "2487  continuamente    0.161319    0.684971  Topic10  -5.6721   4.6315\n",
       "2488     desconecta    0.161319    0.684971  Topic10  -5.6721   4.6315\n",
       "\n",
       "[139 rows x 6 columns], token_table=      Topic      Freq        Term\n",
       "term                             \n",
       "1995      5  0.728343   advertise\n",
       "1697      3  0.987294       apple\n",
       "2738      6  0.685237     bandaid\n",
       "7         1  0.629418     battery\n",
       "7         2  0.203038     battery\n",
       "...     ...       ...         ...\n",
       "217       1  0.998498        well\n",
       "1993      8  0.901385  whatsoever\n",
       "931       2  0.984828       wired\n",
       "221       1  0.534656        work\n",
       "221       2  0.460155        work\n",
       "\n",
       "[124 rows x 3 columns], R=10, lambda_step=0.01, plot_opts={'xlab': 'PC1', 'ylab': 'PC2'}, topic_order=[7, 9, 1, 8, 10, 6, 4, 2, 5, 3])"
      ]
     },
     "execution_count": 20,
     "metadata": {},
     "output_type": "execute_result"
    }
   ],
   "source": [
    "vis"
   ]
  },
  {
   "cell_type": "markdown",
   "id": "351b7f24",
   "metadata": {},
   "source": [
    "## Export figure as html"
   ]
  },
  {
   "cell_type": "code",
   "execution_count": null,
   "id": "f3a8be4d",
   "metadata": {},
   "outputs": [],
   "source": [
    "pyLDAvis.save_html(vis, str(get_data_path(\"lda_keychron_reviews.html\")))"
   ]
  }
 ],
 "metadata": {
  "kernelspec": {
   "display_name": "lda-example",
   "language": "python",
   "name": "lda-example"
  },
  "language_info": {
   "codemirror_mode": {
    "name": "ipython",
    "version": 3
   },
   "file_extension": ".py",
   "mimetype": "text/x-python",
   "name": "python",
   "nbconvert_exporter": "python",
   "pygments_lexer": "ipython3",
   "version": "3.9.7"
  }
 },
 "nbformat": 4,
 "nbformat_minor": 5
}
